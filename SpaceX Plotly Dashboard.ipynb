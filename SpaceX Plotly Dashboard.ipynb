{
    "cells": [
        {
            "cell_type": "code",
            "execution_count": null,
            "id": "5dee8da6",
            "metadata": {},
            "outputs": [],
            "source": "# Import required libraries\nimport pandas as pd\nimport dash\nimport dash_html_components as html\nimport dash_core_components as dcc\nfrom dash.dependencies import Input, Output\nimport plotly.express as px\n\n# Read the airline data into pandas dataframe\nspacex_df = pd.read_csv(\"spacex_launch_dash.csv\")\nmax_payload = spacex_df['Payload Mass (kg)'].max()\nmin_payload = spacex_df['Payload Mass (kg)'].min()\n\n# Create a dash application\napp = dash.Dash(__name__)\n\n# Create an app layout\napp.layout = html.Div(children=[html.H1('SpaceX Launch Records Dashboard',\n                                        style={'textAlign': 'center', 'color': '#503D36',\n                                               'font-size': 40}),\n                                # TASK 1: Add a dropdown list to enable Launch Site selection\n                                # The default select value is for ALL sites\n                                dcc.Dropdown(id='site-dropdown',\n                                options=[{'label':'All Sites', 'value':'ALL'},\n                                         {'label':'CCAFS LC-40', 'value':'CCAFS LC-40'},\n                                         {'label':'CCAFS SLC-40', 'value':'CCAFS SLC-40'},\n                                         {'label':'KSC LC-39A', 'value':'KSC LC-39A'},\n                                         {'label':'VAFB SLC-4E', 'value':'VAFB SLC-4E'}\n                                         ],\n                                value='ALL',\n                                placeholder='Select a Launch Site here',\n                                searchable=True\n                                ),\n                                html.Br(),\n\n                                # TASK 2: Add a pie chart to show the total successful launches count for all sites\n                                # If a specific launch site was selected, show the Success vs. Failed counts for the site\n                                html.Div(dcc.Graph(id='success-pie-chart')),\n                                html.Br(),\n\n                                html.P(\"Payload range (Kg):\"),\n                                # TASK 3: Add a slider to select payload range\n                                dcc.RangeSlider(id='payload-slider',\n                                min=0, max=10000, step=1000,\n                                marks={0: '0', 2500:'2500', 5000:'5000', 7500:'7500', 10000:'10000'},\n                                value=[min_payload, max_payload]                                \n                                ),\n\n                                # TASK 4: Add a scatter chart to show the correlation between payload and launch success\n                                html.Div(dcc.Graph(id='success-payload-scatter-chart')),\n                                ])\n\n# TASK 2:\n# Add a callback function for `site-dropdown` as input, `success-pie-chart` as output\n@app.callback(\n    Output(component_id='success-pie-chart', component_property='figure'),\n    Input(component_id='site-dropdown', component_property='value'))\n\ndef get_pie_chart(site_dropdown):\n    if site_dropdown =='ALL':\n        pie_chart = px.pie(spacex_df,\n        values='class',\n        names='Launch Site',\n        title=\"Successful vs. Failed Launches for All Launch Site\")\n        return pie_chart\n    else:\n        site_df = spacex_df.loc[spacex_df['Launch Site'] == site_dropdown]\n        pie_chart = px.pie(site_df,\n        names='class',\n        title='Successful vs. Failed Launches by Launch Site')\n        return pie_chart\n\n# TASK 4:\n# Add a callback function for `site-dropdown` and `payload-slider` as inputs, `success-payload-scatter-chart` as output\n@app.callback(\n    Output(component_id='success-payload-scatter-chart', component_property='figure'),\n    [Input(component_id='site-dropdown', component_property='value'),\n     Input(component_id='payload-slider',component_property='value')])\n\ndef get_scatter_chart(site_dropdown, selected_payload):\n    min_payload, max_payload = selected_payload\n    filtered_df = spacex_df[(spacex_df['Payload Mass (kg)']>min_payload)\n    &(spacex_df['Payload Mass (kg)']<max_payload)]\n    if site_dropdown == 'ALL':\n        scatterplot = px.scatter(filtered_df,\n        x='Payload Mass (kg)',\n        y='class',\n        color=\"Booster Version Category\",\n        title='Successful vs. Failed Launches by Payload Mass (kg) for All Sites')\n        return scatterplot\n    else:\n        filtered_df = spacex_df.loc[spacex_df['Launch Site'] == site_dropdown]\n        scatterplot = px.scatter(filtered_df,\n        x='Payload Mass (kg)',\n        y='class',\n        color=\"Booster Version Category\",\n        title='Successful vs. Failed Launches by Payload Mass (kg):'+site_dropdown)\n        return scatterplot\n\n# Run the app\nif __name__ == '__main__':\n    app.run_server()"
        }
    ],
    "metadata": {
        "kernelspec": {
            "display_name": "Python 3 (ipykernel)",
            "language": "python",
            "name": "python3"
        },
        "language_info": {
            "codemirror_mode": {
                "name": "ipython",
                "version": 3
            },
            "file_extension": ".py",
            "mimetype": "text/x-python",
            "name": "python",
            "nbconvert_exporter": "python",
            "pygments_lexer": "ipython3",
            "version": "3.9.13"
        }
    },
    "nbformat": 4,
    "nbformat_minor": 5
}